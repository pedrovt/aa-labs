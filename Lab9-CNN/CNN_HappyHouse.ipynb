{
 "cells": [
  {
   "cell_type": "markdown",
   "metadata": {},
   "source": [
    "## ML Lab 10 - Building a CNN model in Keras (Happy House) \n",
    "\n",
    "**Objectives**:  Build a deep learning algorithm using Keras, a high-level neural networks programming framework, written in Python and capable of running on top of TensorFlow.  \n",
    "\n",
    "Keras was developed to enable deep learning engineers to build and experiment with different models very quickly. Just as TensorFlow is a higher-level framework than Python, Keras is an even higher-level framework and provides additional abstractions. \n",
    "\n",
    "**Note**: We import a lot of functions from Keras. You can use them easily just by calling them directly in the notebook. Ex: `X = Input(...)` or `X = ZeroPadding2D(...)`.\n"
   ]
  },
  {
   "cell_type": "code",
   "execution_count": 8,
   "metadata": {},
   "outputs": [],
   "source": [
    "import warnings\n",
    "warnings.filterwarnings('ignore',category=FutureWarning)\n",
    "warnings.filterwarnings('ignore',category=DeprecationWarning)\n",
    "\n",
    "# Import relevant libraries\n",
    "import numpy as np\n",
    "from keras import layers\n",
    "from keras.layers import Input, Dense, Activation, ZeroPadding2D, BatchNormalization, Flatten, Conv2D\n",
    "from keras.layers import AveragePooling2D, MaxPooling2D, Dropout, GlobalMaxPooling2D, GlobalAveragePooling2D\n",
    "from keras.models import Model\n",
    "from keras.preprocessing import image\n",
    "from keras.utils import layer_utils\n",
    "from keras.utils.data_utils import get_file\n",
    "from keras.applications.imagenet_utils import preprocess_input\n",
    "import pydot\n",
    "from IPython.display import SVG\n",
    "from keras.utils.vis_utils import model_to_dot\n",
    "from keras.utils import plot_model\n",
    "from kt_utils import *\n",
    "from keras.losses import BinaryCrossentropy\n",
    "import keras.backend as K\n",
    "K.set_image_data_format('channels_last')\n",
    "import matplotlib.pyplot as plt\n",
    "from matplotlib.pyplot import imshow\n",
    "\n",
    "%matplotlib inline\n"
   ]
  },
  {
   "cell_type": "markdown",
   "metadata": {},
   "source": [
    "##  Problem:  Happy House Challenge\n",
    "\n",
    "You decided to spend your vacation with friends in a very convenient holiday house with many things to do nearby. But the most important benefit is that everybody has commited to be happy when they are in the house. So anyone wanting to enter the house must prove their current state of happiness.\n",
    "\n",
    "As a deep learning expert, to make sure the \"Happy\" rule is strictly applied, you are going to build an algorithm that uses pictures from the front door camera to check if the person is happy or not. The door should open only if the person is happy. \n",
    "\n",
    "You have gathered pictures of your friends and yourself, taken by the front-door camera. The dataset is labbeled. \n",
    "\n",
    "<img src=\"images/house-members.png\" style=\"width:500px;height:250px;\">\n",
    "\n",
    "**Details of the \"Happy\" dataset**:\n",
    "- Images are of shape (64,64,3)\n",
    "- Training: 600 pictures\n",
    "- Test: 150 pictures\n",
    "\n",
    "Run the following code to load and normalize the dataset and learn about its shapes."
   ]
  },
  {
   "cell_type": "code",
   "execution_count": 2,
   "metadata": {},
   "outputs": [
    {
     "name": "stdout",
     "output_type": "stream",
     "text": [
      "number of training examples = 600\n",
      "number of test examples = 150\n",
      "X_train shape: (600, 64, 64, 3)\n",
      "Y_train shape: (600, 1)\n",
      "X_test shape: (150, 64, 64, 3)\n",
      "Y_test shape: (150, 1)\n"
     ]
    }
   ],
   "source": [
    "X_train_orig, Y_train_orig, X_test_orig, Y_test_orig, classes = load_dataset()\n",
    "\n",
    "# Normalize image vectors\n",
    "X_train = X_train_orig/255.\n",
    "X_test = X_test_orig/255.\n",
    "\n",
    "# Reshape\n",
    "Y_train = Y_train_orig.T\n",
    "Y_test = Y_test_orig.T\n",
    "\n",
    "print (\"number of training examples = \" + str(X_train.shape[0]))\n",
    "print (\"number of test examples = \" + str(X_test.shape[0]))\n",
    "print (\"X_train shape: \" + str(X_train.shape))\n",
    "print (\"Y_train shape: \" + str(Y_train.shape))\n",
    "print (\"X_test shape: \" + str(X_test.shape))\n",
    "print (\"Y_test shape: \" + str(Y_test.shape))"
   ]
  },
  {
   "cell_type": "markdown",
   "metadata": {},
   "source": [
    "## Building a model in Keras\n",
    "\n",
    "Here is an example of a model in Keras:\n",
    "\n",
    "```python\n",
    "def model(input_shape):\n",
    "    # Define the input placeholder as a tensor with shape input_shape. \n",
    "    #Think of this as an input image.\n",
    "    X_input = Input(input_shape)\n",
    "\n",
    "    # Zero-Padding: pads the border of X_input with zeroes\n",
    "    X = ZeroPadding2D((3, 3))(X_input)\n",
    "\n",
    "    # CONV -> BN -> RELU Block applied to X\n",
    "    #Conv2D(filters, kernel_size, .... data_format='channels_last',...)\n",
    "    X = Conv2D(32, (7, 7), strides = (1, 1), name = 'conv0')(X)\n",
    "    \n",
    "    #Normalize the activations of the previous layer at each batch, i.e. applies a transformation     that maintains the mean activation close to 0 and activation standard deviation close to 1.\n",
    "    # If data_format=\"channels_last\", the axis to be normalized is axis=3. \n",
    "    X = BatchNormalization(axis = 3, name = 'bn0')(X)\n",
    "    X = Activation('relu')(X)\n",
    "\n",
    "    # MAXPOOL: helps to lower the dimension of X in height and width.\n",
    "    X = MaxPooling2D((2, 2), name='max_pool')(X)\n",
    "\n",
    "    # FLATTEN X (means convert it to a vector) + FULLYCONNECTED\n",
    "    X = Flatten()(X)\n",
    "    X = Dense(1, activation='sigmoid', name='fc')(X)\n",
    "\n",
    "    # Creates the Keras model instance (object), you'll use to train/test the model.\n",
    "    model = Model(inputs = X_input, outputs = X, name='HappyModel')\n",
    "    \n",
    "    return model\n",
    "```\n",
    "\n",
    "Note that Keras uses a different convention with variable names than we ussually do with neural network layers. In particular, rather than creating and assigning a new variable on each step of forward propagation such as `X`, `Z1`, `A1`, `Z2`, `A2`, etc. for the computations for the different layers, in Keras code each line above just reassigns `X` to a new value using `X = ...`. In other words, during each step of forward propagation, we are just writing the latest value in the computation into the same variable `X`. The only exception was `X_input`, which we kept separate and did not overwrite, since we needed it at the end to create the Keras model instance (`model = Model(inputs = X_input, ...)` above). \n",
    "\n",
    "**Exercise**: Implement a `HappyModel()`. We suggest that you start by implementing the architecture proposed above as your initial model and run it. After that, come back and vary the network architecture (e.g. add new blocks CONV -> BN -> RELU -> MAXP) or vary the hyperparameters (e.g Conv2D(32, (3, 3),....) ).  \n",
    "\n",
    "Be careful with the data's shapes. "
   ]
  },
  {
   "cell_type": "code",
   "execution_count": 3,
   "metadata": {},
   "outputs": [],
   "source": [
    "# HappyModel\n",
    "\n",
    "def HappyModel(input_shape):\n",
    "    \"\"\"\n",
    "    Implementation of the HappyModel.\n",
    "    \n",
    "    Arguments:\n",
    "    input_shape -- shape of the images of the dataset\n",
    "\n",
    "    Returns:\n",
    "    model -- a Model() instance in Keras\n",
    "    \"\"\"\n",
    "    # Use the suggested model in the text above to get started, and run through the whole\n",
    "    # exercise once. Then come back and add more BLOCKS. \n",
    "    X_input = Input(input_shape)\n",
    "    \n",
    "    # Zero-Padding: pads the border of X_input with zeroes\n",
    "    X = ZeroPadding2D((3, 3))(X_input)\n",
    "    \n",
    "    # BLOCK 1: CONV -> BN -> RELU -> MAXP\n",
    "    num_filters = 32\n",
    "    kernel_size = (7, 7)\n",
    "    stride = (1, 1)\n",
    "    X = Conv2D(num_filters, kernel_size, strides = stride, name = 'conv0')(X)\n",
    "\n",
    "    # BLOCK 2: CONV -> BN -> RELU -> MAXP\n",
    "    X = BatchNormalization(axis = 3, name = 'bn0')(X)\n",
    "        \n",
    "    # BLOCK 3: CONV -> BN -> RELU -> MAXP\n",
    "    X = Activation('relu')(X)\n",
    "    \n",
    "    # BLOCK 4: CONV -> BN -> RELU -> MAXP\n",
    "    max_pool_size = (2, 2)\n",
    "    X = MaxPooling2D(max_pool_size, name='max_pool')(X)\n",
    "        \n",
    "    # FLATTEN X (means convert it to a vector) + FULLYCONNECTED\n",
    "    X = Flatten()(X)\n",
    "    X = Dense(1, activation='sigmoid', name='fc')(X)\n",
    "\n",
    "    # Create model.\n",
    "    model = Model(inputs = X_input, outputs = X, name='HappyModel')\n",
    "\n",
    "    \n",
    "    return model"
   ]
  },
  {
   "cell_type": "markdown",
   "metadata": {},
   "source": [
    "You have now built a function to describe your model. \n",
    "\n",
    "To train and test this model, there are four steps in Keras (Create->Compile->Fit/Train->Evaluate/Test:\n",
    "\n",
    "1. Create the model by calling the function above\n",
    "2. Compile the model by calling `model.compile(optimizer = \"...\", loss = \"...\", metrics = [\"accuracy\"])`\n",
    "3. Train the model on train data by calling `model.fit(X_train, Y_train, epochs = ..., batch_size = ...)`\n",
    "4. Test the model on test data by calling `model.evaluate(x = ..., y = ...)`\n",
    "\n",
    "If you want to know more about `model.compile()`, `model.fit()`, `model.evaluate()` and their arguments, refer to the official [Keras documentation](https://keras.io/models/model/).\n"
   ]
  },
  {
   "cell_type": "code",
   "execution_count": 5,
   "metadata": {},
   "outputs": [],
   "source": [
    "# 1. Create the model by calling the function above\n",
    "happyModel = HappyModel(X_train.shape[1:])\n"
   ]
  },
  {
   "cell_type": "code",
   "execution_count": 9,
   "metadata": {},
   "outputs": [],
   "source": [
    "# 2.Compile the model to configure the learning process. Choose the arguments of compile() wisely.\n",
    "#Hint: the Happy Challenge is a binary classification problem.\n",
    "happyModel.compile(optimizer='adam', loss=BinaryCrossentropy(), metrics=[\"accuracy\"])"
   ]
  },
  {
   "cell_type": "code",
   "execution_count": 16,
   "metadata": {
    "scrolled": true
   },
   "outputs": [
    {
     "name": "stdout",
     "output_type": "stream",
     "text": [
      "Epoch 1/40\n",
      "5/5 [==============================] - 1s 109ms/step - loss: 0.2307 - accuracy: 0.9067\n",
      "Epoch 2/40\n",
      "5/5 [==============================] - 0s 98ms/step - loss: 0.2375 - accuracy: 0.8867\n",
      "Epoch 3/40\n",
      "5/5 [==============================] - 1s 105ms/step - loss: 0.1619 - accuracy: 0.9333\n",
      "Epoch 4/40\n",
      "5/5 [==============================] - 0s 100ms/step - loss: 0.1977 - accuracy: 0.9267\n",
      "Epoch 5/40\n",
      "5/5 [==============================] - 0s 99ms/step - loss: 0.1474 - accuracy: 0.9400\n",
      "Epoch 6/40\n",
      "5/5 [==============================] - 1s 101ms/step - loss: 0.1533 - accuracy: 0.9533\n",
      "Epoch 7/40\n",
      "5/5 [==============================] - 0s 100ms/step - loss: 0.1499 - accuracy: 0.9467\n",
      "Epoch 8/40\n",
      "5/5 [==============================] - 1s 113ms/step - loss: 0.1017 - accuracy: 0.9667\n",
      "Epoch 9/40\n",
      "5/5 [==============================] - 1s 108ms/step - loss: 0.0937 - accuracy: 0.9667\n",
      "Epoch 10/40\n",
      "5/5 [==============================] - 1s 101ms/step - loss: 0.0780 - accuracy: 0.9800\n",
      "Epoch 11/40\n",
      "5/5 [==============================] - 1s 103ms/step - loss: 0.0630 - accuracy: 0.9933\n",
      "Epoch 12/40\n",
      "5/5 [==============================] - 1s 104ms/step - loss: 0.0648 - accuracy: 0.9933\n",
      "Epoch 13/40\n",
      "5/5 [==============================] - 1s 113ms/step - loss: 0.0649 - accuracy: 0.9867\n",
      "Epoch 14/40\n",
      "5/5 [==============================] - 1s 132ms/step - loss: 0.0681 - accuracy: 0.9867\n",
      "Epoch 15/40\n",
      "5/5 [==============================] - 1s 144ms/step - loss: 0.0524 - accuracy: 0.9867\n",
      "Epoch 16/40\n",
      "5/5 [==============================] - 1s 102ms/step - loss: 0.0528 - accuracy: 0.9933\n",
      "Epoch 17/40\n",
      "5/5 [==============================] - 1s 106ms/step - loss: 0.0484 - accuracy: 0.9867\n",
      "Epoch 18/40\n",
      "5/5 [==============================] - 1s 103ms/step - loss: 0.0444 - accuracy: 0.9933\n",
      "Epoch 19/40\n",
      "5/5 [==============================] - 1s 131ms/step - loss: 0.0431 - accuracy: 0.9867\n",
      "Epoch 20/40\n",
      "5/5 [==============================] - 1s 116ms/step - loss: 0.0385 - accuracy: 0.9933\n",
      "Epoch 21/40\n",
      "5/5 [==============================] - 1s 110ms/step - loss: 0.0500 - accuracy: 0.9867\n",
      "Epoch 22/40\n",
      "5/5 [==============================] - 1s 115ms/step - loss: 0.0435 - accuracy: 0.9867\n",
      "Epoch 23/40\n",
      "5/5 [==============================] - 1s 121ms/step - loss: 0.0381 - accuracy: 0.9867\n",
      "Epoch 24/40\n",
      "5/5 [==============================] - 1s 122ms/step - loss: 0.0335 - accuracy: 0.9933\n",
      "Epoch 25/40\n",
      "5/5 [==============================] - 1s 106ms/step - loss: 0.0303 - accuracy: 0.9933\n",
      "Epoch 26/40\n",
      "5/5 [==============================] - 1s 127ms/step - loss: 0.0339 - accuracy: 0.9933\n",
      "Epoch 27/40\n",
      "5/5 [==============================] - 1s 125ms/step - loss: 0.0383 - accuracy: 0.9933\n",
      "Epoch 28/40\n",
      "5/5 [==============================] - 1s 129ms/step - loss: 0.0279 - accuracy: 0.9933\n",
      "Epoch 29/40\n",
      "5/5 [==============================] - 1s 127ms/step - loss: 0.0386 - accuracy: 0.9867\n",
      "Epoch 30/40\n",
      "5/5 [==============================] - 1s 139ms/step - loss: 0.0220 - accuracy: 0.9933\n",
      "Epoch 31/40\n",
      "5/5 [==============================] - 1s 119ms/step - loss: 0.0390 - accuracy: 0.9867\n",
      "Epoch 32/40\n",
      "5/5 [==============================] - 1s 125ms/step - loss: 0.0270 - accuracy: 0.9933\n",
      "Epoch 33/40\n",
      "5/5 [==============================] - 1s 118ms/step - loss: 0.0290 - accuracy: 0.9933\n",
      "Epoch 34/40\n",
      "5/5 [==============================] - 1s 129ms/step - loss: 0.0213 - accuracy: 0.9933\n",
      "Epoch 35/40\n",
      "5/5 [==============================] - 1s 141ms/step - loss: 0.0212 - accuracy: 1.0000\n",
      "Epoch 36/40\n",
      "5/5 [==============================] - 1s 147ms/step - loss: 0.0203 - accuracy: 0.9933\n",
      "Epoch 37/40\n",
      "5/5 [==============================] - 1s 136ms/step - loss: 0.0313 - accuracy: 0.9933\n",
      "Epoch 38/40\n",
      "5/5 [==============================] - 1s 139ms/step - loss: 0.0334 - accuracy: 0.99330s - loss: 0.0238 - accuracy\n",
      "Epoch 39/40\n",
      "5/5 [==============================] - 1s 128ms/step - loss: 0.0211 - accuracy: 1.0000\n",
      "Epoch 40/40\n",
      "5/5 [==============================] - 1s 116ms/step - loss: 0.0241 - accuracy: 0.9933\n"
     ]
    },
    {
     "data": {
      "text/plain": [
       "<tensorflow.python.keras.callbacks.History at 0x117245c47f0>"
      ]
     },
     "execution_count": 16,
     "metadata": {},
     "output_type": "execute_result"
    }
   ],
   "source": [
    "# 3.Train the model on train data. Choose the number of epochs and the batch size.\n",
    "happyModel.fit(x = X_test, y = Y_test, batch_size = 32, epochs = 40)\n",
    "\n",
    "#batch size smaller -> cost function will oscilate more (will take a long time to converge)\n",
    "#best is to process bigger batches for the cost function will be smoother and converge faster\n",
    "#the cost is taking more time\n"
   ]
  },
  {
   "cell_type": "code",
   "execution_count": 17,
   "metadata": {
    "scrolled": true
   },
   "outputs": [
    {
     "name": "stdout",
     "output_type": "stream",
     "text": [
      "Model: \"HappyModel\"\n",
      "_________________________________________________________________\n",
      "Layer (type)                 Output Shape              Param #   \n",
      "=================================================================\n",
      "input_1 (InputLayer)         [(None, 64, 64, 3)]       0         \n",
      "_________________________________________________________________\n",
      "zero_padding2d (ZeroPadding2 (None, 70, 70, 3)         0         \n",
      "_________________________________________________________________\n",
      "conv0 (Conv2D)               (None, 64, 64, 32)        4736      \n",
      "_________________________________________________________________\n",
      "bn0 (BatchNormalization)     (None, 64, 64, 32)        128       \n",
      "_________________________________________________________________\n",
      "activation (Activation)      (None, 64, 64, 32)        0         \n",
      "_________________________________________________________________\n",
      "max_pool (MaxPooling2D)      (None, 32, 32, 32)        0         \n",
      "_________________________________________________________________\n",
      "flatten (Flatten)            (None, 32768)             0         \n",
      "_________________________________________________________________\n",
      "fc (Dense)                   (None, 1)                 32769     \n",
      "=================================================================\n",
      "Total params: 37,633\n",
      "Trainable params: 37,569\n",
      "Non-trainable params: 64\n",
      "_________________________________________________________________\n"
     ]
    }
   ],
   "source": [
    "happyModel.summary()"
   ]
  },
  {
   "cell_type": "markdown",
   "metadata": {},
   "source": [
    "Note that if you run `fit()` again, the `model` will continue to train with the parameters it has already learnt instead of reinitializing them.\n"
   ]
  },
  {
   "cell_type": "code",
   "execution_count": 18,
   "metadata": {},
   "outputs": [
    {
     "name": "stdout",
     "output_type": "stream",
     "text": [
      "19/19 [==============================] - 0s 25ms/step - loss: 0.2713 - accuracy: 0.9233\n",
      "\n",
      "Loss = 0.2713339030742645\n",
      "Train Accuracy = 0.9233333468437195\n"
     ]
    }
   ],
   "source": [
    "#Test the model on train data  \n",
    "preds = happyModel.evaluate(x = X_train, y = Y_train)\n",
    "\n",
    "print()\n",
    "print (\"Loss = \" + str(preds[0]))\n",
    "print (\"Train Accuracy = \" + str(preds[1]))"
   ]
  },
  {
   "cell_type": "code",
   "execution_count": 19,
   "metadata": {
    "scrolled": true
   },
   "outputs": [
    {
     "name": "stdout",
     "output_type": "stream",
     "text": [
      "5/5 [==============================] - 0s 19ms/step - loss: 0.1889 - accuracy: 0.9867\n",
      "\n",
      "Loss = 0.18894799053668976\n",
      "Test Accuracy = 0.9866666793823242\n"
     ]
    }
   ],
   "source": [
    "#Test the model on test data  \n",
    "preds = happyModel.evaluate(x = X_test, y = Y_test)\n",
    "\n",
    "print()\n",
    "print (\"Loss = \" + str(preds[0]))\n",
    "print (\"Test Accuracy = \" + str(preds[1]))"
   ]
  },
  {
   "cell_type": "markdown",
   "metadata": {},
   "source": [
    "If `happyModel()` function worked, you should have observed much better than random-guessing (50%) accuracy on the train and test sets. You have to get at least 75% accuracy. \n",
    "Even if you have achieved 75% accuracy, please feel free to keep playing with your model to try to get even better results. To give you a point of comparison, our model gets around 95% test accuracy in 40 epochs (and 99% train accuracy) with a mini batch size of 16 and \"adam\" optimizer. Depending on your computer it may take some time to finish the complete set of training epochs. \n",
    "\n",
    "- Change your optimizer. We find Adam works well. \n",
    "- If the model is struggling to run and you get memory issues, lower your batch_size. \n",
    "- Run on more epochs, until you see the train accuracy plateauing. \n"
   ]
  },
  {
   "cell_type": "code",
   "execution_count": null,
   "metadata": {},
   "outputs": [],
   "source": [
    "#Prints the details of your layers in a table with the sizes of its inputs/outputs\n",
    "happyModel.summary()"
   ]
  },
  {
   "cell_type": "markdown",
   "metadata": {},
   "source": [
    "## Test with your own image (Optional)\n",
    "\n",
    "Take a picture of your face and see if you could enter the Happy House. To do that, add your image to this Jupyter Notebook's directory, in the \"images\" folder and run the code below and check if the algorithm is right (0 is unhappy, 1 is happy)!\n",
    "    \n",
    "NOTE: All pictures (the training and test sub-sets) for this assignment were taken against the same background (since a front door camera is always mounted in the same position). This makes the problem easier, but a model trained on this data may or may not work on your own data. But feel free to give it a try! "
   ]
  },
  {
   "cell_type": "code",
   "execution_count": null,
   "metadata": {},
   "outputs": [],
   "source": [
    "#your own image \"my_image.jpg\". \n",
    "img_path = 'images/my_image.jpg'\n",
    "\n",
    "img = image.load_img(img_path, target_size=(64, 64))\n",
    "imshow(img)\n",
    "\n",
    "x = image.img_to_array(img)\n",
    "x = np.expand_dims(x, axis=0)\n",
    "x = preprocess_input(x)\n",
    "\n",
    "print(happyModel.predict(x))"
   ]
  },
  {
   "cell_type": "code",
   "execution_count": null,
   "metadata": {},
   "outputs": [],
   "source": []
  }
 ],
 "metadata": {
  "kernelspec": {
   "display_name": "Python 3",
   "language": "python",
   "name": "python3"
  },
  "language_info": {
   "codemirror_mode": {
    "name": "ipython",
    "version": 3
   },
   "file_extension": ".py",
   "mimetype": "text/x-python",
   "name": "python",
   "nbconvert_exporter": "python",
   "pygments_lexer": "ipython3",
   "version": "3.8.5"
  }
 },
 "nbformat": 4,
 "nbformat_minor": 4
}
